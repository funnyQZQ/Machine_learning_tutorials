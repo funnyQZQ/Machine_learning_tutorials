{
 "cells": [
  {
   "cell_type": "markdown",
   "metadata": {},
   "source": [
    "### Eigenvalues and Eigenvectors"
   ]
  },
  {
   "cell_type": "markdown",
   "metadata": {},
   "source": [
    "**Eigenvectors**: These are non-zero vectors that only change by a scalar factor when a linear transformation is applied. Mathematically, for a matrix $A$, an eigenvector $v$ satisfies:\n",
    "$$A\\vec{v}=\\lambda\\vec{v}$$\n",
    "where $\\lambda$ is the eigenvalue corresponding to the eigenvector $\\vec{v}$.  \n",
    "*Note*: Only square matrices have eigenvalues and eigenvectors. Non-square matrices do not have eigenvalues or eigenvectors.\n",
    "\n"
   ]
  },
  {
   "cell_type": "markdown",
   "metadata": {},
   "source": [
    "**Eigenvalues**: These are scalars that represent how much the eigenvector is stretched or compressed during the transformation."
   ]
  },
  {
   "cell_type": "markdown",
   "metadata": {},
   "source": [
    "The eigenvectors of matrix $ A $ have **two important properties**:\n",
    "\n",
    "1. If $ X_1 $ and $ X_2 $ are eigenvectors of $ A $ corresponding to the eigenvalue $ \\lambda $, then $ X_1 + X_2 $ is also an eigenvector of $ A $ corresponding to the eigenvalue $ \\lambda $.\n",
    "\n",
    "\n",
    "2. If $ X $ is an eigenvector of $ A $ corresponding to the eigenvalue $ \\lambda $, and $ k $ is a non-zero constant, then $ kX $ is also an eigenvector of $ A $ corresponding to the eigenvalue $ \\lambda $."
   ]
  },
  {
   "cell_type": "markdown",
   "metadata": {},
   "source": [
    "**Example for Property 1**\n",
    "\n",
    "Consider matrix $ A = \\begin{bmatrix} 2 & 0 \\\\ 0 & 3 \\end{bmatrix} $ with eigenvalue $ \\lambda = 2 $. The eigenvectors corresponding to $ \\lambda = 2 $ are of the form $ X = \\begin{bmatrix} x \\\\ 0 \\end{bmatrix} $.\n",
    "\n",
    "Let $ X_1 = \\begin{bmatrix} 1 \\\\ 0 \\end{bmatrix} $ and $ X_2 = \\begin{bmatrix} 2 \\\\ 0 \\end{bmatrix} $. Both are eigenvectors of $ A $ for $ \\lambda = 2 $.\n",
    "\n",
    "Their sum $ X_1 + X_2 = \\begin{bmatrix} 3 \\\\ 0 \\end{bmatrix} $ is also an eigenvector of $ A $ for $ \\lambda = 2 $.\n",
    "\n",
    "**Example for Property 2**\n",
    "\n",
    "Using the same matrix $ A = \\begin{bmatrix} 2 & 0 \\\\ 0 & 3 \\end{bmatrix} $ with eigenvalue $ \\lambda = 2 $, consider the eigenvector $ X = \\begin{bmatrix} 1 \\\\ 0 \\end{bmatrix} $.\n",
    "\n",
    "If $ k = 3 $, then $ kX = 3 \\begin{bmatrix} 1 \\\\ 0 \\end{bmatrix} = \\begin{bmatrix} 3 \\\\ 0 \\end{bmatrix} $ is also an eigenvector of $ A $ for $ \\lambda = 2 $."
   ]
  },
  {
   "cell_type": "markdown",
   "metadata": {},
   "source": [
    "#### How to Calculate Eigenvalues and Eigenvectors of a Square Matrix?\n"
   ]
  },
  {
   "cell_type": "markdown",
   "metadata": {},
   "source": [
    "#### Example Matrix\n",
    "\n",
    "Consider the matrix $ A $:\n",
    "\n",
    "$$ \n",
    "A = \\begin{bmatrix} \n",
    "4 & 1 & 2 \\\\ \n",
    "0 & 3 & -1 \\\\ \n",
    "0 & 0 & 2 \n",
    "\\end{bmatrix} \n",
    "$$\n",
    "\n",
    "#### Step 1: Calculate Eigenvalues\n",
    "\n",
    "1. **Characteristic Equation**: Compute $\\det(A - \\lambda I) = 0$, where $ I $ is the identity matrix and $\\lambda$ is the eigenvalue.\n",
    "\n",
    "2. **Compute the Determinant**:\n",
    "\n",
    "   $$\n",
    "   \\det(A - \\lambda I) = \\det \\begin{bmatrix} \n",
    "   4-\\lambda & 1 & 2 \\\\ \n",
    "   0 & 3-\\lambda & -1 \\\\ \n",
    "   0 & 0 & 2-\\lambda \n",
    "   \\end{bmatrix} \n",
    "   $$\n",
    "\n",
    "   Since this is an upper triangular matrix, the determinant is the product of the diagonal elements:\n",
    "\n",
    "   $$\n",
    "   (4-\\lambda)(3-\\lambda)(2-\\lambda) = 0\n",
    "   $$\n",
    "\n",
    "3. **Solve for Eigenvalues**: Solve the equation to find $\\lambda_1 = 4$, $\\lambda_2 = 3$, $\\lambda_3 = 2$.\n",
    "\n",
    "#### Step 2: Calculate Eigenvectors\n",
    "\n",
    "For each eigenvalue, solve $(A - \\lambda I)X = 0$:\n",
    "\n",
    "1. **Eigenvalue $\\lambda_1 = 4$**:\n",
    "\n",
    "   $$\n",
    "   (A - 4I) = \\begin{bmatrix} \n",
    "   0 & 1 & 2 \\\\ \n",
    "   0 & -1 & -1 \\\\ \n",
    "   0 & 0 & -2 \n",
    "   \\end{bmatrix} \n",
    "   $$\n",
    "\n",
    "   Solve $(A - 4I)X = 0$ to find the eigenvector $ X_1 = \\begin{bmatrix} 1 \\\\ 0 \\\\ 0 \\end{bmatrix} $.\n",
    "\n",
    "2. **Eigenvalue $\\lambda_2 = 3$**:\n",
    "\n",
    "   $$\n",
    "   (A - 3I) = \\begin{bmatrix} \n",
    "   1 & 1 & 2 \\\\ \n",
    "   0 & 0 & -1 \\\\ \n",
    "   0 & 0 & -1 \n",
    "   \\end{bmatrix} \n",
    "   $$\n",
    "\n",
    "   Solve $(A - 3I)X = 0$ to find the eigenvector $ X_2 = \\begin{bmatrix} -1 \\\\ 1 \\\\ 0 \\end{bmatrix} $.\n",
    "\n",
    "3. **Eigenvalue $\\lambda_3 = 2$**:\n",
    "\n",
    "   $$\n",
    "   (A - 2I) = \\begin{bmatrix} \n",
    "   2 & 1 & 2 \\\\ \n",
    "   0 & 1 & -1 \\\\ \n",
    "   0 & 0 & 0 \n",
    "   \\end{bmatrix} \n",
    "   $$\n",
    "\n",
    "   Solve $(A - 2I)X = 0$ to find the eigenvector $ X_3 = \\begin{bmatrix} -3 \\\\ 2 \\\\ 2 \\end{bmatrix} $."
   ]
  },
  {
   "cell_type": "code",
   "execution_count": 7,
   "metadata": {},
   "outputs": [
    {
     "name": "stdout",
     "output_type": "stream",
     "text": [
      "Eigenvalues:\n",
      " [4. 3. 2.]\n",
      "\n",
      "Eigenvectors:\n",
      " [[ 1.         -0.70710678 -0.72760688]\n",
      " [ 0.          0.70710678  0.48507125]\n",
      " [ 0.          0.          0.48507125]]\n"
     ]
    }
   ],
   "source": [
    "import numpy as np\n",
    "\n",
    "# Define the matrix A\n",
    "A = np.array([\n",
    "    [4, 1, 2],\n",
    "    [0, 3, -1],\n",
    "    [0, 0, 2]\n",
    "])\n",
    "\n",
    "# Calculate eigenvalues and eigenvectors\n",
    "eigenvalues, eigenvectors = np.linalg.eig(A)\n",
    "\n",
    "# Display the results\n",
    "print(\"Eigenvalues:\\n\", eigenvalues)\n",
    "\n",
    "print(\"\\nEigenvectors:\\n\", eigenvectors)"
   ]
  },
  {
   "cell_type": "markdown",
   "metadata": {},
   "source": [
    "#### Reference\n",
    "1. https://byjus.com/maths/eigen-values/\n",
    "2. https://zhuanlan.zhihu.com/p/165382601\n"
   ]
  }
 ],
 "metadata": {
  "kernelspec": {
   "display_name": "ml_env",
   "language": "python",
   "name": "python3"
  },
  "language_info": {
   "codemirror_mode": {
    "name": "ipython",
    "version": 3
   },
   "file_extension": ".py",
   "mimetype": "text/x-python",
   "name": "python",
   "nbconvert_exporter": "python",
   "pygments_lexer": "ipython3",
   "version": "3.10.16"
  }
 },
 "nbformat": 4,
 "nbformat_minor": 2
}
