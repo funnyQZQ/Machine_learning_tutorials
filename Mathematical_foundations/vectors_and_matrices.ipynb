{
 "cells": [
  {
   "cell_type": "markdown",
   "metadata": {},
   "source": [
    "### Vectors and Matrices"
   ]
  },
  {
   "cell_type": "markdown",
   "metadata": {},
   "source": [
    "#### 1. Vectors\n"
   ]
  },
  {
   "cell_type": "markdown",
   "metadata": {},
   "source": [
    "**Definition**: A vector is a one-dimensional array of numbers, which can represent a point in space.\n"
   ]
  },
  {
   "cell_type": "code",
   "execution_count": 2,
   "metadata": {},
   "outputs": [],
   "source": [
    "import numpy as np\n",
    "\n",
    "vector1 = np.array([1.5, 2.3, 3.7, 4.2])\n",
    "vector2 = np.array([0.8, 1.4, 2.9, 5.6])"
   ]
  },
  {
   "cell_type": "markdown",
   "metadata": {},
   "source": [
    "**Operations**:\n"
   ]
  },
  {
   "cell_type": "markdown",
   "metadata": {},
   "source": [
    "1. **Addition**: Adding corresponding elements of two vectors.  \n",
    "$\\mathbf{a} = [a_1, a_2, ..., a_n]$ and $\\mathbf{b} = [b_1, b_2, ..., b_n]$  \n",
    "$\\mathbf{a} + \\mathbf{b} = [a_1 + b_1, a_2 + b_2, ..., a_n + b_n]$"
   ]
  },
  {
   "cell_type": "code",
   "execution_count": 3,
   "metadata": {},
   "outputs": [
    {
     "data": {
      "text/plain": [
       "array([2.3, 3.7, 6.6, 9.8])"
      ]
     },
     "execution_count": 3,
     "metadata": {},
     "output_type": "execute_result"
    }
   ],
   "source": [
    "add_result = vector1 + vector2\n",
    "add_result"
   ]
  },
  {
   "cell_type": "markdown",
   "metadata": {},
   "source": [
    "2. **Scalar Multiplication**: Multiplying each element of a vector by a scalar.  \n",
    "For a scalar $c$ and vector $\\mathbf{a} = [a_1, a_2, ..., a_n]$:  \n",
    "$c \\times \\mathbf{a} = [c \\times a_1, c \\times a_2, ..., c \\times a_n]$"
   ]
  },
  {
   "cell_type": "code",
   "execution_count": 4,
   "metadata": {},
   "outputs": [
    {
     "data": {
      "text/plain": [
       "array([3. , 4.6, 7.4, 8.4])"
      ]
     },
     "execution_count": 4,
     "metadata": {},
     "output_type": "execute_result"
    }
   ],
   "source": [
    "scalar = 2\n",
    "scalar_multiplication_result = scalar * vector1\n",
    "scalar_multiplication_result"
   ]
  },
  {
   "cell_type": "markdown",
   "metadata": {},
   "source": [
    "3. **Dot Product**:  A scalar representing the product of two vectors.   \n",
    "$\\mathbf{a} = [a_1, a_2, ..., a_n]$ and $\\mathbf{b} = [b_1, b_2, ..., b_n]$  \n",
    "$\\mathbf{a} \\cdot \\mathbf{b} = a_1b_1 + a_2b_2 + ... + a_nb_n$  \n",
    "$\\mathbf{a} \\cdot \\mathbf{b} = |\\mathbf{a}||\\mathbf{b}|\\cos \\theta$  \n",
    "Similarity Measurement, Projection Calculation, Angle Calculation  \n",
    "\n"
   ]
  },
  {
   "cell_type": "code",
   "execution_count": 5,
   "metadata": {},
   "outputs": [
    {
     "data": {
      "text/plain": [
       "38.67"
      ]
     },
     "execution_count": 5,
     "metadata": {},
     "output_type": "execute_result"
    }
   ],
   "source": [
    "dot_product_result = np.dot(vector1, vector2)\n",
    "dot_product_result"
   ]
  },
  {
   "cell_type": "markdown",
   "metadata": {},
   "source": [
    "4. **Cross Product**: A vector perpendicular to two given vectors (in 3D space).  \n",
    "$\\mathbf{a} = [a_1, a_2, a_3]$ and $\\mathbf{b} = [b_1, b_2, b_3]$  \n",
    "$\\mathbf{a} \\times \\mathbf{b} = [a_2b_3 - a_3b_2, a_3b_1 - a_1b_3, a_1b_2 - a_2b_1]$   \n",
    "$\\mathbf{a} = [a_1, a_2]$ and $\\mathbf{b} = [b_1, b_2]$   \n",
    "$\\mathbf{a} \\times \\mathbf{b} = a_1b_2 - a_2b_1$  \n",
    "In three-dimensional geometry, the cross product of vector a and vector b results in a vector, more commonly known as the normal vector, which is perpendicular to the plane formed by vectors a and b.  \n",
    "In two-dimensional space, the cross product has another geometric meaning: a × b equals the area of the parallelogram formed by vectors a and b."
   ]
  },
  {
   "cell_type": "code",
   "execution_count": 9,
   "metadata": {},
   "outputs": [
    {
     "data": {
      "text/plain": [
       "array([ 1.49, -1.39,  0.26])"
      ]
     },
     "execution_count": 9,
     "metadata": {},
     "output_type": "execute_result"
    }
   ],
   "source": [
    "vector1 = np.array([1.5, 2.3, 3.7])\n",
    "vector2 = np.array([0.8, 1.4, 2.9])\n",
    "cross_product_result = np.cross(vector1, vector2)\n",
    "cross_product_result"
   ]
  },
  {
   "cell_type": "code",
   "execution_count": 10,
   "metadata": {},
   "outputs": [
    {
     "data": {
      "text/plain": [
       "array(0.26)"
      ]
     },
     "execution_count": 10,
     "metadata": {},
     "output_type": "execute_result"
    }
   ],
   "source": [
    "vector1 = np.array([1.5, 2.3])\n",
    "vector2 = np.array([0.8, 1.4])\n",
    "cross_product_result = np.cross(vector1, vector2)\n",
    "cross_product_result"
   ]
  },
  {
   "cell_type": "markdown",
   "metadata": {},
   "source": [
    "#### 2. Matrices\n"
   ]
  },
  {
   "cell_type": "markdown",
   "metadata": {},
   "source": [
    "**Definition**: A matrix is a two-dimensional array of numbers, used to represent linear transformations and systems of linear equations."
   ]
  },
  {
   "cell_type": "code",
   "execution_count": 13,
   "metadata": {},
   "outputs": [
    {
     "name": "stdout",
     "output_type": "stream",
     "text": [
      "matrix1: \n",
      " [[1.2 2.3 3.4]\n",
      " [4.5 5.6 6.7]\n",
      " [7.8 8.9 9. ]]\n",
      "matrix2: \n",
      " [[ 2.1  3.2  4.3]\n",
      " [ 5.4  6.5  7.6]\n",
      " [ 8.7  9.8 10.9]]\n"
     ]
    }
   ],
   "source": [
    "matrix1 = np.array([[1.2, 2.3, 3.4],\n",
    "                    [4.5, 5.6, 6.7],\n",
    "                    [7.8, 8.9, 9.0]])\n",
    "\n",
    "matrix2 = np.array([[2.1, 3.2, 4.3],\n",
    "                    [5.4, 6.5, 7.6], \n",
    "                    [8.7, 9.8, 10.9]])\n",
    "\n",
    "print('matrix1: \\n', matrix1)\n",
    "print('matrix2: \\n', matrix2)"
   ]
  },
  {
   "cell_type": "markdown",
   "metadata": {},
   "source": [
    "**Operations**:\n"
   ]
  },
  {
   "cell_type": "markdown",
   "metadata": {},
   "source": [
    "1. **Addition**: Adding corresponding elements of two matrices.  \n",
    "For two matrices $A = [a_{ij}]$ and $B = [b_{ij}]$, their sum $C = A + B = [c_{ij}]$, where $c_{ij} = a_{ij} + b_{ij}$\n",
    "\n",
    "\n"
   ]
  },
  {
   "cell_type": "code",
   "execution_count": 14,
   "metadata": {},
   "outputs": [
    {
     "data": {
      "text/plain": [
       "array([[ 3.3,  5.5,  7.7],\n",
       "       [ 9.9, 12.1, 14.3],\n",
       "       [16.5, 18.7, 19.9]])"
      ]
     },
     "execution_count": 14,
     "metadata": {},
     "output_type": "execute_result"
    }
   ],
   "source": [
    "add_result = matrix1 + matrix2\n",
    "add_result"
   ]
  },
  {
   "cell_type": "markdown",
   "metadata": {},
   "source": [
    "2. **Scalar Multiplication**: Multiplying each element of a matrix by a scalar.  \n",
    "For a scalar $c$ and matrix $A = [a_{ij}]$, their product $C = cA = [c \\times a_{ij}]$, where $c_{ij} = c \\times a_{ij}$\n",
    "\n",
    "\n",
    "\n"
   ]
  },
  {
   "cell_type": "code",
   "execution_count": 15,
   "metadata": {},
   "outputs": [
    {
     "data": {
      "text/plain": [
       "array([[ 2.4,  4.6,  6.8],\n",
       "       [ 9. , 11.2, 13.4],\n",
       "       [15.6, 17.8, 18. ]])"
      ]
     },
     "execution_count": 15,
     "metadata": {},
     "output_type": "execute_result"
    }
   ],
   "source": [
    "scalar = 2\n",
    "scalar_multiplication_result = scalar * matrix1\n",
    "scalar_multiplication_result"
   ]
  },
  {
   "cell_type": "markdown",
   "metadata": {},
   "source": [
    "3. **Matrix Multiplication**: Combining two matrices to form a new matrix.  \n",
    "For two matrices $A = [a_{ij}]$ and $B = [b_{ij}]$, their product $C = AB = [c_{ij}]$, where $c_{ij} = \\sum_{k=1}^{n} a_{ik}b_{kj}$"
   ]
  },
  {
   "cell_type": "code",
   "execution_count": 16,
   "metadata": {},
   "outputs": [
    {
     "data": {
      "text/plain": [
       "array([[ 44.52,  52.11,  59.7 ],\n",
       "       [ 97.98, 116.46, 134.94],\n",
       "       [142.74, 171.01, 199.28]])"
      ]
     },
     "execution_count": 16,
     "metadata": {},
     "output_type": "execute_result"
    }
   ],
   "source": [
    "matrix_multiplication_result = np.dot(matrix1, matrix2)\n",
    "matrix_multiplication_result"
   ]
  },
  {
   "cell_type": "markdown",
   "metadata": {},
   "source": [
    "4. **Transpose**: Flipping a matrix over its diagonal.  \n",
    "For a matrix $A = [a_{ij}]$, its transpose $A^T = [a_{ji}]$"
   ]
  },
  {
   "cell_type": "code",
   "execution_count": 18,
   "metadata": {},
   "outputs": [
    {
     "name": "stdout",
     "output_type": "stream",
     "text": [
      "matrix1: \n",
      " [[1.2 2.3 3.4]\n",
      " [4.5 5.6 6.7]\n",
      " [7.8 8.9 9. ]]\n",
      "transpose_result: \n",
      " [[1.2 4.5 7.8]\n",
      " [2.3 5.6 8.9]\n",
      " [3.4 6.7 9. ]]\n"
     ]
    }
   ],
   "source": [
    "transpose_result = matrix1.T\n",
    "print('matrix1: \\n', matrix1)\n",
    "print('transpose_result: \\n', transpose_result)"
   ]
  },
  {
   "cell_type": "markdown",
   "metadata": {},
   "source": [
    "#### Reference\n",
    "1. https://www.statlect.com/matrix-algebra/vectors-and-matrices\n",
    "\n",
    "\n"
   ]
  }
 ],
 "metadata": {
  "kernelspec": {
   "display_name": "ml_env",
   "language": "python",
   "name": "python3"
  },
  "language_info": {
   "codemirror_mode": {
    "name": "ipython",
    "version": 3
   },
   "file_extension": ".py",
   "mimetype": "text/x-python",
   "name": "python",
   "nbconvert_exporter": "python",
   "pygments_lexer": "ipython3",
   "version": "3.10.16"
  }
 },
 "nbformat": 4,
 "nbformat_minor": 2
}
